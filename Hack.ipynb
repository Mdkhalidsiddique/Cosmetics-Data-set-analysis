{
 "cells": [
  {
   "cell_type": "markdown",
   "metadata": {},
   "source": [
    "# EDA on Cosmetics Data Set"
   ]
  },
  {
   "cell_type": "markdown",
   "metadata": {},
   "source": [
    "Description of features in the data set"
   ]
  },
  {
   "cell_type": "markdown",
   "metadata": {},
   "source": [
    "● ParentSKU: Parent Stock Keeping Unit. ● Site ID: Location of Warehouse. ● Year: Year on which sales had happened. ● Month: Monthon which sales had happened. ● CategoryNameID: Product Category Name ID. ● Unit: Unit of the product package. ● Qty: Number of products sold. ● Net Sales Calculated: Total amount that should be billed. ● Cash Discount: Per product discount on purchase of bulk. ● Amount to customer: Amount that the customer has been billed. ● MRP: Maximum Retail Price of the product. ● Pack Size: Quantity of per product that has been bought. ● Pack Unit: Unit of the product. ● State: State at which the sales had happened. ● Zone: Zone ID where the sales had happened. ● Master Category: Master Category of the product. Super set of Category Name ID. ● Size: Pack size of the product. ● Rank: Priority of the product to the client. Rank 1 is more important and so on.. ● Date: Transaction date."
   ]
  },
  {
   "cell_type": "code",
   "execution_count": 1,
   "metadata": {},
   "outputs": [],
   "source": [
    "import pandas as pd\n",
    "import numpy as np\n",
    "import matplotlib.pyplot as plt\n",
    "import seaborn as sns\n",
    "%matplotlib inline"
   ]
  },
  {
   "cell_type": "code",
   "execution_count": 2,
   "metadata": {},
   "outputs": [
    {
     "data": {
      "text/html": [
       "<div>\n",
       "<style scoped>\n",
       "    .dataframe tbody tr th:only-of-type {\n",
       "        vertical-align: middle;\n",
       "    }\n",
       "\n",
       "    .dataframe tbody tr th {\n",
       "        vertical-align: top;\n",
       "    }\n",
       "\n",
       "    .dataframe thead th {\n",
       "        text-align: right;\n",
       "    }\n",
       "</style>\n",
       "<table border=\"1\" class=\"dataframe\">\n",
       "  <thead>\n",
       "    <tr style=\"text-align: right;\">\n",
       "      <th></th>\n",
       "      <th>ParentSKU</th>\n",
       "      <th>Site Id</th>\n",
       "      <th>Year</th>\n",
       "      <th>Month</th>\n",
       "      <th>Category Name ID</th>\n",
       "      <th>Unit</th>\n",
       "      <th>Qty</th>\n",
       "      <th>Price</th>\n",
       "      <th>Net Sales calculated</th>\n",
       "      <th>Cash Discount</th>\n",
       "      <th>Amount to Customer</th>\n",
       "      <th>MRP</th>\n",
       "      <th>Pack Size</th>\n",
       "      <th>Pack Unit Id</th>\n",
       "      <th>State</th>\n",
       "      <th>Zone</th>\n",
       "      <th>Master Category</th>\n",
       "      <th>Size</th>\n",
       "      <th>Rank</th>\n",
       "      <th>Date</th>\n",
       "    </tr>\n",
       "  </thead>\n",
       "  <tbody>\n",
       "    <tr>\n",
       "      <th>0</th>\n",
       "      <td>F0033</td>\n",
       "      <td>AHMEDABAD</td>\n",
       "      <td>2017</td>\n",
       "      <td>4</td>\n",
       "      <td>0</td>\n",
       "      <td>NO</td>\n",
       "      <td>1621.0</td>\n",
       "      <td>54</td>\n",
       "      <td>82557</td>\n",
       "      <td>20</td>\n",
       "      <td>93640</td>\n",
       "      <td>80.0</td>\n",
       "      <td>30.0</td>\n",
       "      <td>GM</td>\n",
       "      <td>DL</td>\n",
       "      <td>WEST2</td>\n",
       "      <td>3</td>\n",
       "      <td>30gm</td>\n",
       "      <td>4</td>\n",
       "      <td>01-04-2017</td>\n",
       "    </tr>\n",
       "    <tr>\n",
       "      <th>1</th>\n",
       "      <td>F0033</td>\n",
       "      <td>AHMEDABAD</td>\n",
       "      <td>2017</td>\n",
       "      <td>5</td>\n",
       "      <td>0</td>\n",
       "      <td>NO</td>\n",
       "      <td>651.0</td>\n",
       "      <td>51</td>\n",
       "      <td>31473</td>\n",
       "      <td>21</td>\n",
       "      <td>35760</td>\n",
       "      <td>80.0</td>\n",
       "      <td>30.0</td>\n",
       "      <td>GM</td>\n",
       "      <td>DL</td>\n",
       "      <td>WEST2</td>\n",
       "      <td>3</td>\n",
       "      <td>30gm</td>\n",
       "      <td>4</td>\n",
       "      <td>01-05-2017</td>\n",
       "    </tr>\n",
       "    <tr>\n",
       "      <th>2</th>\n",
       "      <td>F0033</td>\n",
       "      <td>AHMEDABAD</td>\n",
       "      <td>2017</td>\n",
       "      <td>6</td>\n",
       "      <td>0</td>\n",
       "      <td>NO</td>\n",
       "      <td>457.0</td>\n",
       "      <td>46</td>\n",
       "      <td>19580</td>\n",
       "      <td>12</td>\n",
       "      <td>22293</td>\n",
       "      <td>70.0</td>\n",
       "      <td>30.0</td>\n",
       "      <td>GM</td>\n",
       "      <td>DL</td>\n",
       "      <td>WEST2</td>\n",
       "      <td>3</td>\n",
       "      <td>30gm</td>\n",
       "      <td>4</td>\n",
       "      <td>01-06-2017</td>\n",
       "    </tr>\n",
       "    <tr>\n",
       "      <th>3</th>\n",
       "      <td>F0033</td>\n",
       "      <td>AHMEDABAD</td>\n",
       "      <td>2017</td>\n",
       "      <td>7</td>\n",
       "      <td>0</td>\n",
       "      <td>NO</td>\n",
       "      <td>1985.0</td>\n",
       "      <td>41</td>\n",
       "      <td>78144</td>\n",
       "      <td>0</td>\n",
       "      <td>78144</td>\n",
       "      <td>70.0</td>\n",
       "      <td>30.0</td>\n",
       "      <td>GM</td>\n",
       "      <td>DL</td>\n",
       "      <td>WEST2</td>\n",
       "      <td>3</td>\n",
       "      <td>30gm</td>\n",
       "      <td>4</td>\n",
       "      <td>01-07-2017</td>\n",
       "    </tr>\n",
       "    <tr>\n",
       "      <th>4</th>\n",
       "      <td>F0033</td>\n",
       "      <td>AHMEDABAD</td>\n",
       "      <td>2017</td>\n",
       "      <td>8</td>\n",
       "      <td>0</td>\n",
       "      <td>NO</td>\n",
       "      <td>6.0</td>\n",
       "      <td>38</td>\n",
       "      <td>228</td>\n",
       "      <td>0</td>\n",
       "      <td>228</td>\n",
       "      <td>70.0</td>\n",
       "      <td>30.0</td>\n",
       "      <td>GM</td>\n",
       "      <td>DL</td>\n",
       "      <td>WEST2</td>\n",
       "      <td>3</td>\n",
       "      <td>30gm</td>\n",
       "      <td>4</td>\n",
       "      <td>01-08-2017</td>\n",
       "    </tr>\n",
       "  </tbody>\n",
       "</table>\n",
       "</div>"
      ],
      "text/plain": [
       "  ParentSKU    Site Id  Year  Month  Category Name ID Unit     Qty  Price  \\\n",
       "0     F0033  AHMEDABAD  2017      4                 0   NO  1621.0     54   \n",
       "1     F0033  AHMEDABAD  2017      5                 0   NO   651.0     51   \n",
       "2     F0033  AHMEDABAD  2017      6                 0   NO   457.0     46   \n",
       "3     F0033  AHMEDABAD  2017      7                 0   NO  1985.0     41   \n",
       "4     F0033  AHMEDABAD  2017      8                 0   NO     6.0     38   \n",
       "\n",
       "   Net Sales calculated  Cash Discount  Amount to Customer   MRP  Pack Size  \\\n",
       "0                 82557             20               93640  80.0       30.0   \n",
       "1                 31473             21               35760  80.0       30.0   \n",
       "2                 19580             12               22293  70.0       30.0   \n",
       "3                 78144              0               78144  70.0       30.0   \n",
       "4                   228              0                 228  70.0       30.0   \n",
       "\n",
       "  Pack Unit Id State   Zone  Master Category  Size  Rank        Date  \n",
       "0           GM    DL  WEST2                3  30gm     4  01-04-2017  \n",
       "1           GM    DL  WEST2                3  30gm     4  01-05-2017  \n",
       "2           GM    DL  WEST2                3  30gm     4  01-06-2017  \n",
       "3           GM    DL  WEST2                3  30gm     4  01-07-2017  \n",
       "4           GM    DL  WEST2                3  30gm     4  01-08-2017  "
      ]
     },
     "execution_count": 2,
     "metadata": {},
     "output_type": "execute_result"
    }
   ],
   "source": [
    "#Let me import the data set\n",
    "df = pd.read_csv('Hackathon.csv')\n",
    "df.head()"
   ]
  },
  {
   "cell_type": "code",
   "execution_count": 3,
   "metadata": {},
   "outputs": [
    {
     "data": {
      "text/plain": [
       "(34950, 20)"
      ]
     },
     "execution_count": 3,
     "metadata": {},
     "output_type": "execute_result"
    }
   ],
   "source": [
    "df.shape"
   ]
  },
  {
   "cell_type": "code",
   "execution_count": 4,
   "metadata": {},
   "outputs": [
    {
     "data": {
      "text/plain": [
       "ParentSKU                object\n",
       "Site Id                  object\n",
       "Year                      int64\n",
       "Month                     int64\n",
       "Category Name ID          int64\n",
       "Unit                     object\n",
       "Qty                     float64\n",
       "Price                     int64\n",
       "Net Sales calculated      int64\n",
       "Cash Discount             int64\n",
       "Amount to Customer        int64\n",
       "MRP                     float64\n",
       "Pack Size               float64\n",
       "Pack Unit Id             object\n",
       "State                    object\n",
       "Zone                     object\n",
       "Master Category           int64\n",
       "Size                     object\n",
       "Rank                      int64\n",
       "Date                     object\n",
       "dtype: object"
      ]
     },
     "execution_count": 4,
     "metadata": {},
     "output_type": "execute_result"
    }
   ],
   "source": [
    "df.dtypes"
   ]
  },
  {
   "cell_type": "code",
   "execution_count": 5,
   "metadata": {},
   "outputs": [
    {
     "data": {
      "text/plain": [
       "ParentSKU               0\n",
       "Site Id                 0\n",
       "Year                    0\n",
       "Month                   0\n",
       "Category Name ID        0\n",
       "Unit                    0\n",
       "Qty                     0\n",
       "Price                   0\n",
       "Net Sales calculated    0\n",
       "Cash Discount           0\n",
       "Amount to Customer      0\n",
       "MRP                     0\n",
       "Pack Size               0\n",
       "Pack Unit Id            0\n",
       "State                   0\n",
       "Zone                    0\n",
       "Master Category         0\n",
       "Size                    0\n",
       "Rank                    0\n",
       "Date                    0\n",
       "dtype: int64"
      ]
     },
     "execution_count": 5,
     "metadata": {},
     "output_type": "execute_result"
    }
   ],
   "source": [
    "df.isnull().sum()"
   ]
  },
  {
   "cell_type": "markdown",
   "metadata": {},
   "source": [
    "# Outlier Detection and Treatment"
   ]
  },
  {
   "cell_type": "code",
   "execution_count": 6,
   "metadata": {},
   "outputs": [
    {
     "data": {
      "text/plain": [
       "<matplotlib.axes._subplots.AxesSubplot at 0x1ea4af02320>"
      ]
     },
     "execution_count": 6,
     "metadata": {},
     "output_type": "execute_result"
    },
    {
     "data": {
      "image/png": "[encoded data removed]",
      "text/plain": [
       "<Figure size 1440x576 with 1 Axes>"
      ]
     },
     "metadata": {
      "needs_background": "light"
     },
     "output_type": "display_data"
    }
   ],
   "source": [
    "df.boxplot(figsize=(20,8))"
   ]
  },
  {
   "cell_type": "markdown",
   "metadata": {},
   "source": [
    "We have outliers in Qty, Net sales, Amount to customer, Price, MRP, Pack size columns"
   ]
  },
  {
   "cell_type": "code",
   "execution_count": 7,
   "metadata": {},
   "outputs": [
    {
     "name": "stdout",
     "output_type": "stream",
     "text": [
      "44.0\n",
      "1287.0\n"
     ]
    }
   ],
   "source": [
    "print(df['Qty'].quantile(0.10))\n",
    "print(df['Qty'].quantile(0.90))"
   ]
  },
  {
   "cell_type": "code",
   "execution_count": 8,
   "metadata": {},
   "outputs": [],
   "source": [
    "df[\"Qty\"] = np.where(df[\"Qty\"] <44.0, 44.0,df['Qty'])\n",
    "df[\"Qty\"] = np.where(df[\"Qty\"] >1287.0, 1287.0,df['Qty'])"
   ]
  },
  {
   "cell_type": "code",
   "execution_count": 9,
   "metadata": {},
   "outputs": [
    {
     "name": "stdout",
     "output_type": "stream",
     "text": [
      "6702.800000000001\n",
      "148929.6000000001\n"
     ]
    }
   ],
   "source": [
    "print(df['Net Sales calculated'].quantile(0.10))\n",
    "print(df['Net Sales calculated'].quantile(0.90))"
   ]
  },
  {
   "cell_type": "code",
   "execution_count": 10,
   "metadata": {},
   "outputs": [],
   "source": [
    "df[\"Net Sales calculated\"] = np.where(df[\"Net Sales calculated\"] <6702.8, 6702.8,df['Net Sales calculated'])\n",
    "df[\"Net Sales calculated\"] = np.where(df[\"Net Sales calculated\"] >148929.6, 148929.6,df['Net Sales calculated'])"
   ]
  },
  {
   "cell_type": "code",
   "execution_count": 11,
   "metadata": {},
   "outputs": [
    {
     "name": "stdout",
     "output_type": "stream",
     "text": [
      "6735.0\n",
      "150884.6\n"
     ]
    }
   ],
   "source": [
    "print(df['Amount to Customer'].quantile(0.10))\n",
    "print(df['Amount to Customer'].quantile(0.90))"
   ]
  },
  {
   "cell_type": "code",
   "execution_count": 12,
   "metadata": {},
   "outputs": [],
   "source": [
    "df[\"Amount to Customer\"] = np.where(df[\"Amount to Customer\"] <6702.8, 6702.8,df['Amount to Customer'])\n",
    "df[\"Amount to Customer\"] = np.where(df[\"Amount to Customer\"] >148929.6, 148929.6,df['Amount to Customer'])"
   ]
  },
  {
   "cell_type": "code",
   "execution_count": 13,
   "metadata": {},
   "outputs": [
    {
     "name": "stdout",
     "output_type": "stream",
     "text": [
      "59.0\n",
      "305.0\n"
     ]
    }
   ],
   "source": [
    "print(df['Price'].quantile(0.10))\n",
    "print(df['Price'].quantile(0.90))"
   ]
  },
  {
   "cell_type": "code",
   "execution_count": 14,
   "metadata": {},
   "outputs": [],
   "source": [
    "df[\"Price\"] = np.where(df[\"Price\"] <6702.8, 6702.8,df['Price'])\n",
    "df[\"Price\"] = np.where(df[\"Price\"] >148929.6, 148929.6,df['Price'])"
   ]
  },
  {
   "cell_type": "code",
   "execution_count": 15,
   "metadata": {},
   "outputs": [
    {
     "name": "stdout",
     "output_type": "stream",
     "text": [
      "95.0\n",
      "475.0\n"
     ]
    }
   ],
   "source": [
    "print(df['MRP'].quantile(0.10))\n",
    "print(df['MRP'].quantile(0.90))"
   ]
  },
  {
   "cell_type": "code",
   "execution_count": 16,
   "metadata": {},
   "outputs": [],
   "source": [
    "df[\"MRP\"] = np.where(df[\"MRP\"] <6702.8, 6702.8,df['MRP'])\n",
    "df[\"MRP\"] = np.where(df[\"MRP\"] >148929.6, 148929.6,df['MRP'])"
   ]
  },
  {
   "cell_type": "code",
   "execution_count": 17,
   "metadata": {},
   "outputs": [
    {
     "name": "stdout",
     "output_type": "stream",
     "text": [
      "1.0\n",
      "150.0\n"
     ]
    }
   ],
   "source": [
    "print(df['Pack Size'].quantile(0.10))\n",
    "print(df['Pack Size'].quantile(0.90))"
   ]
  },
  {
   "cell_type": "code",
   "execution_count": 18,
   "metadata": {},
   "outputs": [],
   "source": [
    "df[\"Pack Size\"] = np.where(df[\"Pack Size\"] <1.0, 1.0,df['Pack Size'])\n",
    "df[\"Pack Size\"] = np.where(df[\"Pack Size\"] >150.0, 150.0,df['Pack Size'])"
   ]
  },
  {
   "cell_type": "code",
   "execution_count": 19,
   "metadata": {},
   "outputs": [
    {
     "data": {
      "text/plain": [
       "<matplotlib.axes._subplots.AxesSubplot at 0x1ea4b773208>"
      ]
     },
     "execution_count": 19,
     "metadata": {},
     "output_type": "execute_result"
    },
    {
     "data": {
      "image/png": "[encoded data removed]",
      "text/plain": [
       "<Figure size 1440x576 with 1 Axes>"
      ]
     },
     "metadata": {
      "needs_background": "light"
     },
     "output_type": "display_data"
    }
   ],
   "source": [
    "#Outliers removed\n",
    "df.boxplot(figsize=(20,8))"
   ]
  },
  {
   "cell_type": "markdown",
   "metadata": {},
   "source": [
    "# Treating of Categorical Data"
   ]
  },
  {
   "cell_type": "code",
   "execution_count": 20,
   "metadata": {},
   "outputs": [
    {
     "data": {
      "text/plain": [
       "<matplotlib.axes._subplots.AxesSubplot at 0x1ea4b8d29b0>"
      ]
     },
     "execution_count": 20,
     "metadata": {},
     "output_type": "execute_result"
    },
    {
     "data": {
      "image/png": "[encoded data removed]",
      "text/plain": [
       "<Figure size 432x288 with 1 Axes>"
      ]
     },
     "metadata": {
      "needs_background": "light"
     },
     "output_type": "display_data"
    }
   ],
   "source": [
    "sns.countplot(y='Pack Unit Id', data=df)"
   ]
  },
  {
   "cell_type": "code",
   "execution_count": 21,
   "metadata": {},
   "outputs": [
    {
     "data": {
      "text/plain": [
       "<matplotlib.axes._subplots.AxesSubplot at 0x1ea4c2002e8>"
      ]
     },
     "execution_count": 21,
     "metadata": {},
     "output_type": "execute_result"
    },
    {
     "data": {
      "image/png": "[encoded data removed]",
      "text/plain": [
       "<Figure size 432x288 with 1 Axes>"
      ]
     },
     "metadata": {
      "needs_background": "light"
     },
     "output_type": "display_data"
    }
   ],
   "source": [
    "df['Pack Unit Id'].replace('empty','ML',inplace=True)\n",
    "df['Pack Unit Id'].replace('NO','ML',inplace=True)\n",
    "df['Pack Unit Id'].replace('ml','ML',inplace=True)\n",
    "df['Pack Unit Id'].replace('Ml','ML',inplace=True)\n",
    "df['Pack Unit Id'].replace('KIT','Kit',inplace=True)\n",
    "df['Pack Unit Id'].replace('Kit','Kit',inplace=True)\n",
    "sns.countplot(y='Pack Unit Id', data=df)"
   ]
  },
  {
   "cell_type": "code",
   "execution_count": 22,
   "metadata": {},
   "outputs": [
    {
     "data": {
      "text/plain": [
       "<matplotlib.axes._subplots.AxesSubplot at 0x1ea4c1f67f0>"
      ]
     },
     "execution_count": 22,
     "metadata": {},
     "output_type": "execute_result"
    },
    {
     "data": {
      "image/png": "[encoded data removed]",
      "text/plain": [
       "<Figure size 432x288 with 1 Axes>"
      ]
     },
     "metadata": {
      "needs_background": "light"
     },
     "output_type": "display_data"
    }
   ],
   "source": [
    "sns.countplot(y='Zone', data=df)"
   ]
  },
  {
   "cell_type": "code",
   "execution_count": 23,
   "metadata": {},
   "outputs": [
    {
     "data": {
      "text/plain": [
       "<matplotlib.axes._subplots.AxesSubplot at 0x1ea4c233a58>"
      ]
     },
     "execution_count": 23,
     "metadata": {},
     "output_type": "execute_result"
    },
    {
     "data": {
      "image/png": "[encoded data removed]",
      "text/plain": [
       "<Figure size 432x288 with 1 Axes>"
      ]
     },
     "metadata": {
      "needs_background": "light"
     },
     "output_type": "display_data"
    }
   ],
   "source": [
    "df.drop(df[df['Zone'] == 'south'].index, inplace = True) \n",
    "df.drop(df[df['Zone'] == 'North1'].index, inplace = True) \n",
    "df.drop(df[df['Zone'] == 'West1'].index, inplace = True) \n",
    "sns.countplot(y='Zone', data=df)"
   ]
  },
  {
   "cell_type": "code",
   "execution_count": 43,
   "metadata": {},
   "outputs": [
    {
     "data": {
      "text/plain": [
       "<matplotlib.axes._subplots.AxesSubplot at 0x1ea4d0af080>"
      ]
     },
     "execution_count": 43,
     "metadata": {},
     "output_type": "execute_result"
    },
    {
     "data": {
      "image/png": "[encoded data removed]",
      "text/plain": [
       "<Figure size 432x288 with 1 Axes>"
      ]
     },
     "metadata": {
      "needs_background": "light"
     },
     "output_type": "display_data"
    }
   ],
   "source": [
    "df['Zone'].replace('WEST2','West',inplace=True)\n",
    "df['Zone'].replace('WEST1','West',inplace=True)\n",
    "df['Zone'].replace('WEST','West',inplace=True)\n",
    "df['Zone'].replace('NORTH2','North',inplace=True)\n",
    "df['Zone'].replace('North 1','North',inplace=True)\n",
    "df['Zone'].replace('NORTH','North',inplace=True)\n",
    "df['Zone'].replace('North','North',inplace=True)\n",
    "df['Zone'].replace('North 2','North',inplace=True)\n",
    "df['Zone'].replace('NORTH1','North',inplace=True)\n",
    "df['Zone'].replace('SOUTH','South',inplace=True)\n",
    "df['Zone'].replace('EAST','East',inplace=True)\n",
    "\n",
    "sns.countplot(y='Zone', data=df)"
   ]
  },
  {
   "cell_type": "code",
   "execution_count": 25,
   "metadata": {},
   "outputs": [],
   "source": [
    "df['Site Id'].replace('North','North',inplace=True)\n",
    "df['Site Id'].replace('North 2','North',inplace=True)"
   ]
  },
  {
   "cell_type": "markdown",
   "metadata": {},
   "source": [
    "Am dropping some of the columns: Date: Because the dataset already consists of date, month and year column Unit: Since it has only \"No\" values in it State: We have only one state i.e.. 'DL'"
   ]
  },
  {
   "cell_type": "code",
   "execution_count": 26,
   "metadata": {},
   "outputs": [],
   "source": [
    "df.drop(['Date', 'Unit', 'State'], axis=1, inplace = True)"
   ]
  },
  {
   "cell_type": "markdown",
   "metadata": {},
   "source": [
    "Am renaming some of the column labels, since they are lengthy"
   ]
  },
  {
   "cell_type": "code",
   "execution_count": 27,
   "metadata": {},
   "outputs": [
    {
     "data": {
      "text/html": [
       "<div>\n",
       "<style scoped>\n",
       "    .dataframe tbody tr th:only-of-type {\n",
       "        vertical-align: middle;\n",
       "    }\n",
       "\n",
       "    .dataframe tbody tr th {\n",
       "        vertical-align: top;\n",
       "    }\n",
       "\n",
       "    .dataframe thead th {\n",
       "        text-align: right;\n",
       "    }\n",
       "</style>\n",
       "<table border=\"1\" class=\"dataframe\">\n",
       "  <thead>\n",
       "    <tr style=\"text-align: right;\">\n",
       "      <th></th>\n",
       "      <th>ParentSKU</th>\n",
       "      <th>Site_id</th>\n",
       "      <th>Year</th>\n",
       "      <th>Month</th>\n",
       "      <th>Category_id</th>\n",
       "      <th>Qty</th>\n",
       "      <th>Price</th>\n",
       "      <th>Net_sales</th>\n",
       "      <th>Discount</th>\n",
       "      <th>ATC</th>\n",
       "      <th>MRP</th>\n",
       "      <th>Pack_size</th>\n",
       "      <th>Pack_unit_id</th>\n",
       "      <th>Zone</th>\n",
       "      <th>Master_category</th>\n",
       "      <th>Size</th>\n",
       "      <th>Rank</th>\n",
       "    </tr>\n",
       "  </thead>\n",
       "  <tbody>\n",
       "    <tr>\n",
       "      <th>0</th>\n",
       "      <td>F0033</td>\n",
       "      <td>AHMEDABAD</td>\n",
       "      <td>2017</td>\n",
       "      <td>4</td>\n",
       "      <td>0</td>\n",
       "      <td>1287.0</td>\n",
       "      <td>6702.8</td>\n",
       "      <td>82557.0</td>\n",
       "      <td>20</td>\n",
       "      <td>93640.0</td>\n",
       "      <td>6702.8</td>\n",
       "      <td>30.0</td>\n",
       "      <td>GM</td>\n",
       "      <td>West</td>\n",
       "      <td>3</td>\n",
       "      <td>30gm</td>\n",
       "      <td>4</td>\n",
       "    </tr>\n",
       "    <tr>\n",
       "      <th>1</th>\n",
       "      <td>F0033</td>\n",
       "      <td>AHMEDABAD</td>\n",
       "      <td>2017</td>\n",
       "      <td>5</td>\n",
       "      <td>0</td>\n",
       "      <td>651.0</td>\n",
       "      <td>6702.8</td>\n",
       "      <td>31473.0</td>\n",
       "      <td>21</td>\n",
       "      <td>35760.0</td>\n",
       "      <td>6702.8</td>\n",
       "      <td>30.0</td>\n",
       "      <td>GM</td>\n",
       "      <td>West</td>\n",
       "      <td>3</td>\n",
       "      <td>30gm</td>\n",
       "      <td>4</td>\n",
       "    </tr>\n",
       "    <tr>\n",
       "      <th>2</th>\n",
       "      <td>F0033</td>\n",
       "      <td>AHMEDABAD</td>\n",
       "      <td>2017</td>\n",
       "      <td>6</td>\n",
       "      <td>0</td>\n",
       "      <td>457.0</td>\n",
       "      <td>6702.8</td>\n",
       "      <td>19580.0</td>\n",
       "      <td>12</td>\n",
       "      <td>22293.0</td>\n",
       "      <td>6702.8</td>\n",
       "      <td>30.0</td>\n",
       "      <td>GM</td>\n",
       "      <td>West</td>\n",
       "      <td>3</td>\n",
       "      <td>30gm</td>\n",
       "      <td>4</td>\n",
       "    </tr>\n",
       "    <tr>\n",
       "      <th>3</th>\n",
       "      <td>F0033</td>\n",
       "      <td>AHMEDABAD</td>\n",
       "      <td>2017</td>\n",
       "      <td>7</td>\n",
       "      <td>0</td>\n",
       "      <td>1287.0</td>\n",
       "      <td>6702.8</td>\n",
       "      <td>78144.0</td>\n",
       "      <td>0</td>\n",
       "      <td>78144.0</td>\n",
       "      <td>6702.8</td>\n",
       "      <td>30.0</td>\n",
       "      <td>GM</td>\n",
       "      <td>West</td>\n",
       "      <td>3</td>\n",
       "      <td>30gm</td>\n",
       "      <td>4</td>\n",
       "    </tr>\n",
       "    <tr>\n",
       "      <th>4</th>\n",
       "      <td>F0033</td>\n",
       "      <td>AHMEDABAD</td>\n",
       "      <td>2017</td>\n",
       "      <td>8</td>\n",
       "      <td>0</td>\n",
       "      <td>44.0</td>\n",
       "      <td>6702.8</td>\n",
       "      <td>6702.8</td>\n",
       "      <td>0</td>\n",
       "      <td>6702.8</td>\n",
       "      <td>6702.8</td>\n",
       "      <td>30.0</td>\n",
       "      <td>GM</td>\n",
       "      <td>West</td>\n",
       "      <td>3</td>\n",
       "      <td>30gm</td>\n",
       "      <td>4</td>\n",
       "    </tr>\n",
       "  </tbody>\n",
       "</table>\n",
       "</div>"
      ],
      "text/plain": [
       "  ParentSKU    Site_id  Year  Month  Category_id     Qty   Price  Net_sales  \\\n",
       "0     F0033  AHMEDABAD  2017      4            0  1287.0  6702.8    82557.0   \n",
       "1     F0033  AHMEDABAD  2017      5            0   651.0  6702.8    31473.0   \n",
       "2     F0033  AHMEDABAD  2017      6            0   457.0  6702.8    19580.0   \n",
       "3     F0033  AHMEDABAD  2017      7            0  1287.0  6702.8    78144.0   \n",
       "4     F0033  AHMEDABAD  2017      8            0    44.0  6702.8     6702.8   \n",
       "\n",
       "   Discount      ATC     MRP  Pack_size Pack_unit_id  Zone  Master_category  \\\n",
       "0        20  93640.0  6702.8       30.0           GM  West                3   \n",
       "1        21  35760.0  6702.8       30.0           GM  West                3   \n",
       "2        12  22293.0  6702.8       30.0           GM  West                3   \n",
       "3         0  78144.0  6702.8       30.0           GM  West                3   \n",
       "4         0   6702.8  6702.8       30.0           GM  West                3   \n",
       "\n",
       "   Size  Rank  \n",
       "0  30gm     4  \n",
       "1  30gm     4  \n",
       "2  30gm     4  \n",
       "3  30gm     4  \n",
       "4  30gm     4  "
      ]
     },
     "execution_count": 27,
     "metadata": {},
     "output_type": "execute_result"
    }
   ],
   "source": [
    "df = df.rename(columns={\"Site Id\":\"Site_id\",\"Category Name ID\":\"Category_id\",\"Net Sales calculated\":\"Net_sales\",\"Cash Discount\":\"Discount\",\"Amount to Customer\":\"ATC\",\"Pack Size\":\"Pack_size\",\"Pack Unit Id\":\"Pack_unit_id\",\"Age (day)\":\"Age\",\"Master Category\":\"Master_category\"})\n",
    "df.head()\n"
   ]
  },
  {
   "cell_type": "code",
   "execution_count": 28,
   "metadata": {},
   "outputs": [],
   "source": [
    "df.to_csv(\"Cleaned_data.csv\", index = False)"
   ]
  },
  {
   "cell_type": "code",
   "execution_count": 29,
   "metadata": {},
   "outputs": [
    {
     "data": {
      "text/html": [
       "<div>\n",
       "<style scoped>\n",
       "    .dataframe tbody tr th:only-of-type {\n",
       "        vertical-align: middle;\n",
       "    }\n",
       "\n",
       "    .dataframe tbody tr th {\n",
       "        vertical-align: top;\n",
       "    }\n",
       "\n",
       "    .dataframe thead th {\n",
       "        text-align: right;\n",
       "    }\n",
       "</style>\n",
       "<table border=\"1\" class=\"dataframe\">\n",
       "  <thead>\n",
       "    <tr style=\"text-align: right;\">\n",
       "      <th></th>\n",
       "      <th>ParentSKU</th>\n",
       "      <th>Site_id</th>\n",
       "      <th>Year</th>\n",
       "      <th>Month</th>\n",
       "      <th>Category_id</th>\n",
       "      <th>Qty</th>\n",
       "      <th>Price</th>\n",
       "      <th>Net_sales</th>\n",
       "      <th>Discount</th>\n",
       "      <th>ATC</th>\n",
       "      <th>MRP</th>\n",
       "      <th>Pack_size</th>\n",
       "      <th>Pack_unit_id</th>\n",
       "      <th>Zone</th>\n",
       "      <th>Master_category</th>\n",
       "      <th>Size</th>\n",
       "      <th>Rank</th>\n",
       "    </tr>\n",
       "  </thead>\n",
       "  <tbody>\n",
       "    <tr>\n",
       "      <th>0</th>\n",
       "      <td>F0033</td>\n",
       "      <td>AHMEDABAD</td>\n",
       "      <td>2017</td>\n",
       "      <td>4</td>\n",
       "      <td>0</td>\n",
       "      <td>1287.0</td>\n",
       "      <td>6702.8</td>\n",
       "      <td>82557.0</td>\n",
       "      <td>20</td>\n",
       "      <td>93640.0</td>\n",
       "      <td>6702.8</td>\n",
       "      <td>30.0</td>\n",
       "      <td>GM</td>\n",
       "      <td>West</td>\n",
       "      <td>3</td>\n",
       "      <td>30gm</td>\n",
       "      <td>4</td>\n",
       "    </tr>\n",
       "    <tr>\n",
       "      <th>1</th>\n",
       "      <td>F0033</td>\n",
       "      <td>AHMEDABAD</td>\n",
       "      <td>2017</td>\n",
       "      <td>5</td>\n",
       "      <td>0</td>\n",
       "      <td>651.0</td>\n",
       "      <td>6702.8</td>\n",
       "      <td>31473.0</td>\n",
       "      <td>21</td>\n",
       "      <td>35760.0</td>\n",
       "      <td>6702.8</td>\n",
       "      <td>30.0</td>\n",
       "      <td>GM</td>\n",
       "      <td>West</td>\n",
       "      <td>3</td>\n",
       "      <td>30gm</td>\n",
       "      <td>4</td>\n",
       "    </tr>\n",
       "    <tr>\n",
       "      <th>2</th>\n",
       "      <td>F0033</td>\n",
       "      <td>AHMEDABAD</td>\n",
       "      <td>2017</td>\n",
       "      <td>6</td>\n",
       "      <td>0</td>\n",
       "      <td>457.0</td>\n",
       "      <td>6702.8</td>\n",
       "      <td>19580.0</td>\n",
       "      <td>12</td>\n",
       "      <td>22293.0</td>\n",
       "      <td>6702.8</td>\n",
       "      <td>30.0</td>\n",
       "      <td>GM</td>\n",
       "      <td>West</td>\n",
       "      <td>3</td>\n",
       "      <td>30gm</td>\n",
       "      <td>4</td>\n",
       "    </tr>\n",
       "    <tr>\n",
       "      <th>3</th>\n",
       "      <td>F0033</td>\n",
       "      <td>AHMEDABAD</td>\n",
       "      <td>2017</td>\n",
       "      <td>7</td>\n",
       "      <td>0</td>\n",
       "      <td>1287.0</td>\n",
       "      <td>6702.8</td>\n",
       "      <td>78144.0</td>\n",
       "      <td>0</td>\n",
       "      <td>78144.0</td>\n",
       "      <td>6702.8</td>\n",
       "      <td>30.0</td>\n",
       "      <td>GM</td>\n",
       "      <td>West</td>\n",
       "      <td>3</td>\n",
       "      <td>30gm</td>\n",
       "      <td>4</td>\n",
       "    </tr>\n",
       "    <tr>\n",
       "      <th>4</th>\n",
       "      <td>F0033</td>\n",
       "      <td>AHMEDABAD</td>\n",
       "      <td>2017</td>\n",
       "      <td>8</td>\n",
       "      <td>0</td>\n",
       "      <td>44.0</td>\n",
       "      <td>6702.8</td>\n",
       "      <td>6702.8</td>\n",
       "      <td>0</td>\n",
       "      <td>6702.8</td>\n",
       "      <td>6702.8</td>\n",
       "      <td>30.0</td>\n",
       "      <td>GM</td>\n",
       "      <td>West</td>\n",
       "      <td>3</td>\n",
       "      <td>30gm</td>\n",
       "      <td>4</td>\n",
       "    </tr>\n",
       "  </tbody>\n",
       "</table>\n",
       "</div>"
      ],
      "text/plain": [
       "  ParentSKU    Site_id  Year  Month  Category_id     Qty   Price  Net_sales  \\\n",
       "0     F0033  AHMEDABAD  2017      4            0  1287.0  6702.8    82557.0   \n",
       "1     F0033  AHMEDABAD  2017      5            0   651.0  6702.8    31473.0   \n",
       "2     F0033  AHMEDABAD  2017      6            0   457.0  6702.8    19580.0   \n",
       "3     F0033  AHMEDABAD  2017      7            0  1287.0  6702.8    78144.0   \n",
       "4     F0033  AHMEDABAD  2017      8            0    44.0  6702.8     6702.8   \n",
       "\n",
       "   Discount      ATC     MRP  Pack_size Pack_unit_id  Zone  Master_category  \\\n",
       "0        20  93640.0  6702.8       30.0           GM  West                3   \n",
       "1        21  35760.0  6702.8       30.0           GM  West                3   \n",
       "2        12  22293.0  6702.8       30.0           GM  West                3   \n",
       "3         0  78144.0  6702.8       30.0           GM  West                3   \n",
       "4         0   6702.8  6702.8       30.0           GM  West                3   \n",
       "\n",
       "   Size  Rank  \n",
       "0  30gm     4  \n",
       "1  30gm     4  \n",
       "2  30gm     4  \n",
       "3  30gm     4  \n",
       "4  30gm     4  "
      ]
     },
     "execution_count": 29,
     "metadata": {},
     "output_type": "execute_result"
    }
   ],
   "source": [
    "new_df = pd.read_csv(\"Cleaned_data.csv\")\n",
    "new_df.head()"
   ]
  },
  {
   "cell_type": "markdown",
   "metadata": {},
   "source": [
    "# Exploratory Data Anlaysis"
   ]
  },
  {
   "cell_type": "code",
   "execution_count": 30,
   "metadata": {},
   "outputs": [
    {
     "data": {
      "text/plain": [
       "<matplotlib.axes._subplots.AxesSubplot at 0x1ea4b6a99b0>"
      ]
     },
     "execution_count": 30,
     "metadata": {},
     "output_type": "execute_result"
    },
    {
     "data": {
      "image/png": "[encoded data removed]",
      "text/plain": [
       "<Figure size 432x288 with 1 Axes>"
      ]
     },
     "metadata": {
      "needs_background": "light"
     },
     "output_type": "display_data"
    }
   ],
   "source": [
    "sales = new_df[[\"Site_id\", \"Net_sales\"]]\n",
    "sales.groupby(\"Site_id\").sum().plot(kind=\"bar\")"
   ]
  },
  {
   "cell_type": "markdown",
   "metadata": {},
   "source": [
    "Sales are high in DELMDK, Kolkata where as Dehradun, bhubneshwar, Gurgaun has least"
   ]
  },
  {
   "cell_type": "code",
   "execution_count": 42,
   "metadata": {},
   "outputs": [
    {
     "data": {
      "text/plain": [
       "<matplotlib.axes._subplots.AxesSubplot at 0x1ea4c70ea20>"
      ]
     },
     "execution_count": 42,
     "metadata": {},
     "output_type": "execute_result"
    },
    {
     "data": {
      "image/png": "[encoded data removed]",
      "text/plain": [
       "<Figure size 432x288 with 1 Axes>"
      ]
     },
     "metadata": {
      "needs_background": "light"
     },
     "output_type": "display_data"
    }
   ],
   "source": [
    "yearly_sales = new_df[[\"Year\", \"Price\", 'Net_sales']]\n",
    "yearly_sales.groupby(\"Year\").sum().plot(kind=\"bar\")"
   ]
  },
  {
   "cell_type": "code",
   "execution_count": null,
   "metadata": {},
   "outputs": [],
   "source": [
    "Yearly sales is high in the year 2018, 2019 and least in the year 2020"
   ]
  },
  {
   "cell_type": "code",
   "execution_count": 41,
   "metadata": {},
   "outputs": [
    {
     "data": {
      "text/plain": [
       "<matplotlib.axes._subplots.AxesSubplot at 0x1ea4caf1940>"
      ]
     },
     "execution_count": 41,
     "metadata": {},
     "output_type": "execute_result"
    },
    {
     "data": {
      "image/png": "[encoded data removed]",
      "text/plain": [
       "<Figure size 432x288 with 1 Axes>"
      ]
     },
     "metadata": {
      "needs_background": "light"
     },
     "output_type": "display_data"
    }
   ],
   "source": [
    "yearly_sales = new_df[[\"Year\", \"Discount\"]]\n",
    "yearly_sales.groupby(\"Year\").sum().plot(kind=\"line\")"
   ]
  },
  {
   "cell_type": "markdown",
   "metadata": {},
   "source": [
    "I wanted to know the reason for decrease in sales in 2020, found that Discount provided may be possible impact."
   ]
  },
  {
   "cell_type": "code",
   "execution_count": 44,
   "metadata": {},
   "outputs": [
    {
     "data": {
      "text/plain": [
       "<matplotlib.axes._subplots.AxesSubplot at 0x1ea4d104898>"
      ]
     },
     "execution_count": 44,
     "metadata": {},
     "output_type": "execute_result"
    },
    {
     "data": {
      "image/png": "[encoded data removed]",
      "text/plain": [
       "<Figure size 432x288 with 1 Axes>"
      ]
     },
     "metadata": {
      "needs_background": "light"
     },
     "output_type": "display_data"
    }
   ],
   "source": [
    "zone_sales = df[[\"Net_sales\", 'Zone']]\n",
    "zone_sales.groupby(\"Zone\").sum().plot(kind=\"bar\")"
   ]
  },
  {
   "cell_type": "code",
   "execution_count": null,
   "metadata": {},
   "outputs": [],
   "source": [
    "Zone wise sales, it is clear that north zone has max sales"
   ]
  },
  {
   "cell_type": "code",
   "execution_count": 35,
   "metadata": {},
   "outputs": [
    {
     "data": {
      "text/plain": [
       "<matplotlib.axes._subplots.AxesSubplot at 0x1ea4c493400>"
      ]
     },
     "execution_count": 35,
     "metadata": {},
     "output_type": "execute_result"
    },
    {
     "data": {
      "image/png": "[encoded data removed]",
      "text/plain": [
       "<Figure size 432x288 with 1 Axes>"
      ]
     },
     "metadata": {
      "needs_background": "light"
     },
     "output_type": "display_data"
    }
   ],
   "source": [
    "c_netsales = new_df[[ \"Category_id\", \"Net_sales\"]]\n",
    "c_netsales.groupby(\"Category_id\").sum().plot(kind=\"line\")"
   ]
  },
  {
   "cell_type": "markdown",
   "metadata": {},
   "source": [
    "Category 7 has the maximum sales and 2 has min"
   ]
  },
  {
   "cell_type": "code",
   "execution_count": 36,
   "metadata": {},
   "outputs": [
    {
     "data": {
      "text/plain": [
       "<matplotlib.axes._subplots.AxesSubplot at 0x1ea4c3db710>"
      ]
     },
     "execution_count": 36,
     "metadata": {},
     "output_type": "execute_result"
    },
    {
     "data": {
      "image/png": "[encoded data removed]",
      "text/plain": [
       "<Figure size 432x288 with 1 Axes>"
      ]
     },
     "metadata": {
      "needs_background": "light"
     },
     "output_type": "display_data"
    }
   ],
   "source": [
    "df_c_discount = df[[ \"Category_id\", \"Discount\"]]\n",
    "df_c_discount.groupby(\"Category_id\").sum().plot(kind=\"bar\")"
   ]
  },
  {
   "cell_type": "markdown",
   "metadata": {},
   "source": [
    "Again the reason for maximum sales of category 7 is because of high discount provided"
   ]
  },
  {
   "cell_type": "code",
   "execution_count": 37,
   "metadata": {},
   "outputs": [
    {
     "data": {
      "text/plain": [
       "<matplotlib.axes._subplots.AxesSubplot at 0x1ea4c510cc0>"
      ]
     },
     "execution_count": 37,
     "metadata": {},
     "output_type": "execute_result"
    },
    {
     "data": {
      "image/png": "[encoded data removed]",
      "text/plain": [
       "<Figure size 432x288 with 1 Axes>"
      ]
     },
     "metadata": {
      "needs_background": "light"
     },
     "output_type": "display_data"
    }
   ],
   "source": [
    "sns.lineplot(x=\"Pack_unit_id\", y=\"Rank\", data=df)"
   ]
  },
  {
   "cell_type": "code",
   "execution_count": 38,
   "metadata": {},
   "outputs": [
    {
     "data": {
      "text/plain": [
       "<matplotlib.axes._subplots.AxesSubplot at 0x1ea4caec780>"
      ]
     },
     "execution_count": 38,
     "metadata": {},
     "output_type": "execute_result"
    },
    {
     "data": {
      "image/png": "[encoded data removed]",
      "text/plain": [
       "<Figure size 432x288 with 1 Axes>"
      ]
     },
     "metadata": {
      "needs_background": "light"
     },
     "output_type": "display_data"
    }
   ],
   "source": [
    "sns.barplot(x=\"Master_category\", y=\"Net_sales\", data=df)"
   ]
  },
  {
   "cell_type": "code",
   "execution_count": 39,
   "metadata": {},
   "outputs": [
    {
     "data": {
      "text/plain": [
       "<matplotlib.axes._subplots.AxesSubplot at 0x1ea4c66c748>"
      ]
     },
     "execution_count": 39,
     "metadata": {},
     "output_type": "execute_result"
    },
    {
     "data": {
      "image/png": "[encoded data removed]",
      "text/plain": [
       "<Figure size 432x288 with 1 Axes>"
      ]
     },
     "metadata": {
      "needs_background": "light"
     },
     "output_type": "display_data"
    }
   ],
   "source": [
    "sns.lineplot(x=\"Month\", y=\"Net_sales\", data=df)"
   ]
  },
  {
   "cell_type": "markdown",
   "metadata": {},
   "source": [
    "Monthly sales is high in the month of june(6) and minimum in the month of october"
   ]
  },
  {
   "cell_type": "code",
   "execution_count": 45,
   "metadata": {},
   "outputs": [
    {
     "data": {
      "text/plain": [
       "<matplotlib.axes._subplots.AxesSubplot at 0x1ea4d172b00>"
      ]
     },
     "execution_count": 45,
     "metadata": {},
     "output_type": "execute_result"
    },
    {
     "data": {
      "image/png": "[encoded data removed]",
      "text/plain": [
       "<Figure size 432x288 with 1 Axes>"
      ]
     },
     "metadata": {
      "needs_background": "light"
     },
     "output_type": "display_data"
    }
   ],
   "source": [
    "sns.lineplot(x=\"Zone\", y='Rank', data=df)"
   ]
  },
  {
   "cell_type": "markdown",
   "metadata": {},
   "source": [
    "The North zone has more rank compared to other"
   ]
  },
  {
   "cell_type": "code",
   "execution_count": null,
   "metadata": {},
   "outputs": [],
   "source": []
  }
 ],
 "metadata": {
  "kernelspec": {
   "display_name": "Python 3",
   "language": "python",
   "name": "python3"
  },
  "language_info": {
   "codemirror_mode": {
    "name": "ipython",
    "version": 3
   },
   "file_extension": ".py",
   "mimetype": "text/x-python",
   "name": "python",
   "nbconvert_exporter": "python",
   "pygments_lexer": "ipython3",
   "version": "3.7.3"
  }
 },
 "nbformat": 4,
 "nbformat_minor": 2
}
